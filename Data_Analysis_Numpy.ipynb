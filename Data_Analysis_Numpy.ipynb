{
 "cells": [
  {
   "cell_type": "markdown",
   "id": "d32d9d4c",
   "metadata": {},
   "source": [
    "## Data analysis\n",
    "## Numpy"
   ]
  },
  {
   "cell_type": "markdown",
   "id": "deba5096",
   "metadata": {},
   "source": [
    "### 2.1 Ndarray object and data types"
   ]
  },
  {
   "cell_type": "code",
   "execution_count": 1,
   "id": "47eb8a9e",
   "metadata": {},
   "outputs": [
    {
     "name": "stdout",
     "output_type": "stream",
     "text": [
      "[1 2 3]\n"
     ]
    }
   ],
   "source": [
    "import numpy as np \n",
    "a = np.array([1,2,3])\n",
    "print(a)"
   ]
  },
  {
   "cell_type": "markdown",
   "id": "384ee304",
   "metadata": {},
   "source": [
    "### 2.1 nd array objects and Datatypes\n"
   ]
  },
  {
   "cell_type": "code",
   "execution_count": 2,
   "id": "e711a4dd",
   "metadata": {},
   "outputs": [
    {
     "name": "stdout",
     "output_type": "stream",
     "text": [
      "[[1 2]\n",
      " [3 4]]\n",
      "[[1.+0.j 2.+0.j 3.+0.j 4.+0.j]]\n"
     ]
    }
   ],
   "source": [
    "import numpy as np\n",
    "a = np.array([[1,2],[3,4]])\n",
    "print(a)\n",
    "\n",
    "##############\n",
    "import numpy as np\n",
    "a = np.array([1,2,3,4],ndmin = 2, dtype = complex)\n",
    "print(a)"
   ]
  },
  {
   "cell_type": "code",
   "execution_count": 3,
   "id": "108f2525",
   "metadata": {},
   "outputs": [
    {
     "data": {
      "text/plain": [
       "dtype('int32')"
      ]
     },
     "execution_count": 3,
     "metadata": {},
     "output_type": "execute_result"
    }
   ],
   "source": [
    "import numpy as np\n",
    "a = np.dtype('i4')\n",
    "a"
   ]
  },
  {
   "cell_type": "markdown",
   "id": "ef3cd602",
   "metadata": {},
   "source": [
    "### 2.2 numpy array attributes\n",
    "#### ndarray shape\n"
   ]
  },
  {
   "cell_type": "code",
   "execution_count": 6,
   "id": "37831dc9",
   "metadata": {},
   "outputs": [
    {
     "name": "stdout",
     "output_type": "stream",
     "text": [
      "(2, 3)\n",
      "[[1 2 3]\n",
      " [4 5 6]]\n"
     ]
    }
   ],
   "source": [
    "import numpy as np\n",
    "a = np.array([[1,2,3],[4,5,6]])\n",
    "print(a.shape)\n",
    "print(a)"
   ]
  },
  {
   "cell_type": "code",
   "execution_count": 8,
   "id": "02482a92",
   "metadata": {},
   "outputs": [
    {
     "name": "stdout",
     "output_type": "stream",
     "text": [
      "[[1 2 3]\n",
      " [5 6 7]]\n"
     ]
    }
   ],
   "source": [
    "import numpy as np\n",
    "a= np.array([[1,2,3],[5,6,7]])\n",
    "a.shape = (2,3)\n",
    "print(a)"
   ]
  },
  {
   "cell_type": "code",
   "execution_count": 9,
   "id": "b155f45f",
   "metadata": {},
   "outputs": [
    {
     "name": "stdout",
     "output_type": "stream",
     "text": [
      "[[1 2]\n",
      " [3 5]\n",
      " [6 7]]\n"
     ]
    }
   ],
   "source": [
    "import numpy as np\n",
    "a= np.array([[1,2,3],[5,6,7]])\n",
    "b = a.reshape(3,2)\n",
    "print(b)             "
   ]
  },
  {
   "cell_type": "code",
   "execution_count": 17,
   "id": "df0aa7ee",
   "metadata": {},
   "outputs": [
    {
     "name": "stdout",
     "output_type": "stream",
     "text": [
      "4\n",
      "[ 0  1  2  3  4  5  6  7  8  9 10 11 12 13 14 15 16 17 18 19 20 21 22 23]\n",
      "[[[ 0  1  2]\n",
      "  [ 3  4  5]\n",
      "  [ 6  7  8]\n",
      "  [ 9 10 11]]\n",
      "\n",
      " [[12 13 14]\n",
      "  [15 16 17]\n",
      "  [18 19 20]\n",
      "  [21 22 23]]]\n"
     ]
    }
   ],
   "source": [
    "import numpy as np\n",
    "a = np.arange(24)\n",
    "b = a.reshape(2,4,3)\n",
    "print(b.itemsize)    \n",
    "print(a)\n",
    "print(b)"
   ]
  },
  {
   "cell_type": "code",
   "execution_count": 18,
   "id": "26f3d223",
   "metadata": {},
   "outputs": [
    {
     "name": "stdout",
     "output_type": "stream",
     "text": [
      "1\n"
     ]
    }
   ],
   "source": [
    "import numpy as np\n",
    "x = np.array([1,2,3,4,5],dtype= np.int8)\n",
    "print(x.itemsize)"
   ]
  },
  {
   "cell_type": "code",
   "execution_count": 21,
   "id": "03c3cede",
   "metadata": {},
   "outputs": [
    {
     "name": "stdout",
     "output_type": "stream",
     "text": [
      "  C_CONTIGUOUS : True\n",
      "  F_CONTIGUOUS : True\n",
      "  OWNDATA : True\n",
      "  WRITEABLE : True\n",
      "  ALIGNED : True\n",
      "  WRITEBACKIFCOPY : False\n",
      "  UPDATEIFCOPY : False\n",
      "\n"
     ]
    }
   ],
   "source": [
    "import numpy as np\n",
    "x = np.array([1,2,3,4,5])\n",
    "print(x.flags)"
   ]
  },
  {
   "cell_type": "code",
   "execution_count": 24,
   "id": "2a3c78ac",
   "metadata": {},
   "outputs": [
    {
     "name": "stdout",
     "output_type": "stream",
     "text": [
      "[[1 2]\n",
      " [3 5]\n",
      " [6 7]]\n"
     ]
    }
   ],
   "source": [
    "import numpy as np\n",
    "x = np.empty([3,2],dtype = int)\n",
    "print(x)"
   ]
  },
  {
   "cell_type": "code",
   "execution_count": 25,
   "id": "82b1791a",
   "metadata": {},
   "outputs": [
    {
     "name": "stdout",
     "output_type": "stream",
     "text": [
      "[[1 2]\n",
      " [3 5]\n",
      " [6 7]]\n"
     ]
    }
   ],
   "source": [
    "import numpy as np\n",
    "x = np.empty([3,2],dtype = int)\n",
    "print(x)"
   ]
  },
  {
   "cell_type": "code",
   "execution_count": 26,
   "id": "fb03178d",
   "metadata": {},
   "outputs": [
    {
     "data": {
      "text/plain": [
       "array([0., 0., 0., 0., 0.])"
      ]
     },
     "execution_count": 26,
     "metadata": {},
     "output_type": "execute_result"
    }
   ],
   "source": [
    "import numpy as np\n",
    "x = np.zeros(5)\n",
    "x"
   ]
  },
  {
   "cell_type": "code",
   "execution_count": 27,
   "id": "63a438bf",
   "metadata": {},
   "outputs": [
    {
     "data": {
      "text/plain": [
       "array([[1, 1],\n",
       "       [1, 1]])"
      ]
     },
     "execution_count": 27,
     "metadata": {},
     "output_type": "execute_result"
    }
   ],
   "source": [
    "import numpy as np\n",
    "np.ones([2,2],dtype = int)"
   ]
  },
  {
   "cell_type": "markdown",
   "id": "b9976d50",
   "metadata": {},
   "source": [
    "### 2.3 array from existing data"
   ]
  },
  {
   "cell_type": "code",
   "execution_count": 28,
   "id": "7decb3d7",
   "metadata": {},
   "outputs": [
    {
     "name": "stdout",
     "output_type": "stream",
     "text": [
      "[1 2 3]\n"
     ]
    }
   ],
   "source": [
    "\n",
    "import numpy as np\n",
    "x = [1,2,3]\n",
    "a = np.asarray(x)\n",
    "print(a)"
   ]
  },
  {
   "cell_type": "code",
   "execution_count": 29,
   "id": "0bfc258b",
   "metadata": {},
   "outputs": [
    {
     "name": "stdout",
     "output_type": "stream",
     "text": [
      "[1. 2. 3.]\n"
     ]
    }
   ],
   "source": [
    "x = [1,2,3]\n",
    "a = np.array(x,dtype = float)\n",
    "print(a)"
   ]
  },
  {
   "cell_type": "code",
   "execution_count": 31,
   "id": "e7de7c7e",
   "metadata": {},
   "outputs": [
    {
     "data": {
      "text/plain": [
       "array([(1, 2, 3), (4, 5)], dtype=object)"
      ]
     },
     "execution_count": 31,
     "metadata": {},
     "output_type": "execute_result"
    }
   ],
   "source": [
    "x = [(1,2,3),(4,5)]\n",
    "a = np.asarray (x)\n",
    "a"
   ]
  },
  {
   "cell_type": "code",
   "execution_count": 34,
   "id": "c65e519e",
   "metadata": {},
   "outputs": [
    {
     "name": "stdout",
     "output_type": "stream",
     "text": [
      "<range_iterator object at 0x000002351083C8F0>\n",
      "range(0, 5)\n"
     ]
    }
   ],
   "source": [
    "import numpy as np\n",
    "list = range(5)\n",
    "it = iter(list)\n",
    "print(it)\n",
    "print(list)"
   ]
  },
  {
   "cell_type": "code",
   "execution_count": 35,
   "id": "c69a8c40",
   "metadata": {},
   "outputs": [
    {
     "name": "stdout",
     "output_type": "stream",
     "text": [
      "[0. 1. 2. 3. 4.]\n"
     ]
    }
   ],
   "source": [
    "x = np.fromiter(it, dtype = float)\n",
    "print(x)"
   ]
  },
  {
   "cell_type": "code",
   "execution_count": 39,
   "id": "213219cf",
   "metadata": {},
   "outputs": [
    {
     "name": "stdout",
     "output_type": "stream",
     "text": [
      "[10 12 14 16 18]\n"
     ]
    }
   ],
   "source": [
    "import numpy as np\n",
    "x = np.arange (10,20,2)\n",
    "print(x)\n"
   ]
  },
  {
   "cell_type": "code",
   "execution_count": 40,
   "id": "b16ddf19",
   "metadata": {},
   "outputs": [
    {
     "name": "stdout",
     "output_type": "stream",
     "text": [
      "[10.  12.5 15.  17.5 20. ]\n"
     ]
    }
   ],
   "source": [
    "import numpy as np \n",
    "x = np.linspace(10,20,5, endpoint = True)\n",
    "print(x)"
   ]
  },
  {
   "cell_type": "code",
   "execution_count": 41,
   "id": "bd194a1f",
   "metadata": {},
   "outputs": [
    {
     "name": "stdout",
     "output_type": "stream",
     "text": [
      "(array([1.  , 1.25, 1.5 , 1.75, 2.  ]), 0.25)\n"
     ]
    }
   ],
   "source": [
    "import numpy as np \n",
    "x = np.linspace(1,2,5,retstep = True)\n",
    "print(x)"
   ]
  },
  {
   "cell_type": "code",
   "execution_count": 43,
   "id": "187ce346",
   "metadata": {},
   "outputs": [
    {
     "name": "stdout",
     "output_type": "stream",
     "text": [
      "[ 10.          12.91549665  16.68100537  21.5443469   27.82559402\n",
      "  35.93813664  46.41588834  59.94842503  77.42636827 100.        ]\n"
     ]
    }
   ],
   "source": [
    "import numpy as np\n",
    "a = np.logspace(1.0,2.0, num = 10)\n",
    "print(a)"
   ]
  },
  {
   "cell_type": "code",
   "execution_count": 46,
   "id": "8b685696",
   "metadata": {},
   "outputs": [
    {
     "name": "stdout",
     "output_type": "stream",
     "text": [
      "[   2.    4.    8.   16.   32.   64.  128.  256.  512. 1024.]\n"
     ]
    }
   ],
   "source": [
    "import numpy as np \n",
    "a = np.logspace(1,10, num = 10, base = 2)\n",
    "print(a)"
   ]
  },
  {
   "cell_type": "code",
   "execution_count": 47,
   "id": "b01be3c0",
   "metadata": {},
   "outputs": [
    {
     "name": "stdout",
     "output_type": "stream",
     "text": [
      "Total iterations: 100000\n",
      "         79 function calls in 0.023 seconds\n",
      "\n",
      "   Ordered by: standard name\n",
      "\n",
      "   ncalls  tottime  percall  cumtime  percall filename:lineno(function)\n",
      "       10    0.021    0.002    0.021    0.002 3874921366.py:3(internal_method)\n",
      "        1    0.000    0.000    0.022    0.022 3874921366.py:9(external_method)\n",
      "        1    0.000    0.000    0.022    0.022 <string>:1(<module>)\n",
      "        5    0.000    0.000    0.001    0.000 iostream.py:206(schedule)\n",
      "        4    0.000    0.000    0.000    0.000 iostream.py:418(_is_master_process)\n",
      "        4    0.000    0.000    0.000    0.000 iostream.py:437(_schedule_flush)\n",
      "        4    0.000    0.000    0.001    0.000 iostream.py:500(write)\n",
      "        5    0.000    0.000    0.000    0.000 iostream.py:96(_event_pipe)\n",
      "        5    0.000    0.000    0.000    0.000 socket.py:474(send)\n",
      "        5    0.001    0.000    0.001    0.000 threading.py:1059(_wait_for_tstate_lock)\n",
      "        5    0.000    0.000    0.001    0.000 threading.py:1113(is_alive)\n",
      "        5    0.000    0.000    0.000    0.000 threading.py:529(is_set)\n",
      "        1    0.000    0.000    0.023    0.023 {built-in method builtins.exec}\n",
      "        4    0.000    0.000    0.000    0.000 {built-in method builtins.isinstance}\n",
      "        4    0.000    0.000    0.000    0.000 {built-in method builtins.len}\n",
      "        1    0.000    0.000    0.001    0.001 {built-in method builtins.print}\n",
      "        4    0.000    0.000    0.000    0.000 {built-in method nt.getpid}\n",
      "        5    0.000    0.000    0.000    0.000 {method 'acquire' of '_thread.lock' objects}\n",
      "        5    0.000    0.000    0.000    0.000 {method 'append' of 'collections.deque' objects}\n",
      "        1    0.000    0.000    0.000    0.000 {method 'disable' of '_lsprof.Profiler' objects}\n",
      "\n",
      "\n"
     ]
    }
   ],
   "source": [
    "import cProfile \n",
    "\n",
    "def internal_method():\n",
    "    temp_var = 0\n",
    "    for ind in range(10000):\n",
    "        temp_var += 1\n",
    "    return temp_var\n",
    "\n",
    "def external_method():\n",
    "    counter = 0\n",
    "    for val in range(10):\n",
    "        counter += internal_method()\n",
    "    print('Total iterations:', counter)\n",
    "    return \n",
    "\n",
    "cProfile.run('external_method()')"
   ]
  },
  {
   "cell_type": "markdown",
   "id": "da0a347a",
   "metadata": {},
   "source": [
    "### 2.4 indexing and slicing"
   ]
  },
  {
   "cell_type": "code",
   "execution_count": 49,
   "id": "3c2fe350",
   "metadata": {},
   "outputs": [
    {
     "name": "stdout",
     "output_type": "stream",
     "text": [
      "[2 4 6]\n",
      "[0 1 2 3 4 5 6 7 8 9]\n"
     ]
    }
   ],
   "source": [
    "\n",
    "import numpy as np\n",
    "a = np.arange(10)\n",
    "s = slice(2,7,2)\n",
    "print(a[s])\n",
    "print(a)"
   ]
  },
  {
   "cell_type": "code",
   "execution_count": 50,
   "id": "b3a5eac9",
   "metadata": {},
   "outputs": [
    {
     "data": {
      "text/plain": [
       "array([2, 4, 6])"
      ]
     },
     "execution_count": 50,
     "metadata": {},
     "output_type": "execute_result"
    }
   ],
   "source": [
    "import numpy as np\n",
    "a = np.arange(10)\n",
    "b = a[2:7:2]\n",
    "b"
   ]
  },
  {
   "cell_type": "code",
   "execution_count": 52,
   "id": "da03a774",
   "metadata": {},
   "outputs": [
    {
     "data": {
      "text/plain": [
       "5"
      ]
     },
     "execution_count": 52,
     "metadata": {},
     "output_type": "execute_result"
    }
   ],
   "source": [
    "import numpy as np\n",
    "a = np.arange(10)\n",
    "b = a[5]\n",
    "b"
   ]
  },
  {
   "cell_type": "code",
   "execution_count": 55,
   "id": "25a9ff68",
   "metadata": {},
   "outputs": [
    {
     "name": "stdout",
     "output_type": "stream",
     "text": [
      "[2 3 4 5 6 7 8 9]\n"
     ]
    }
   ],
   "source": [
    "import numpy as np\n",
    "a = np.arange(10)\n",
    "print(a[2:])"
   ]
  },
  {
   "cell_type": "code",
   "execution_count": 56,
   "id": "5f74a1de",
   "metadata": {},
   "outputs": [
    {
     "name": "stdout",
     "output_type": "stream",
     "text": [
      "[3 4 5]\n"
     ]
    }
   ],
   "source": [
    "import numpy as np\n",
    "a = np.arange(10)\n",
    "print(a[3:6])"
   ]
  },
  {
   "cell_type": "code",
   "execution_count": 57,
   "id": "e69db65c",
   "metadata": {},
   "outputs": [
    {
     "name": "stdout",
     "output_type": "stream",
     "text": [
      "[[1 2 3]\n",
      " [3 4 5]\n",
      " [4 5 6]]\n",
      "now we will slice the array from index a[1:]\n",
      "[[3 4 5]\n",
      " [4 5 6]]\n"
     ]
    }
   ],
   "source": [
    "import numpy as np\n",
    "a = np.array([[1,2,3],[3,4,5],[4,5,6]])\n",
    "print(a)\n",
    "print('now we will slice the array from index a[1:]')\n",
    "print(a[1:])"
   ]
  },
  {
   "cell_type": "code",
   "execution_count": 58,
   "id": "7fcb1c20",
   "metadata": {},
   "outputs": [
    {
     "name": "stdout",
     "output_type": "stream",
     "text": [
      "our array is :\n",
      "[[1 2 3]\n",
      " [3 4 5]\n",
      " [4 5 6]]\n",
      "\n",
      "\n",
      "the Items in the second column are:\n",
      "[2 4 5]\n",
      "\n",
      "\n",
      "the items in the second row are:\n",
      "[3 4 5]\n",
      "\n",
      "\n",
      " the items column 1 onwards are:\n",
      "[[2 3]\n",
      " [4 5]\n",
      " [5 6]]\n",
      "\n",
      "\n"
     ]
    }
   ],
   "source": [
    "import numpy as np\n",
    "a = np.array([[1,2,3],[3,4,5],[4,5,6]])\n",
    "print('our array is :')\n",
    "print(a)\n",
    "print('\\n')\n",
    "print( 'the Items in the second column are:')\n",
    "print(a[...,1])\n",
    "print('\\n')\n",
    "print( 'the items in the second row are:')\n",
    "print(a[1,...])\n",
    "print('\\n')\n",
    "print(' the items column 1 onwards are:')\n",
    "print(a[...,1:])\n",
    "print('\\n')"
   ]
  },
  {
   "cell_type": "code",
   "execution_count": 59,
   "id": "be0eea3d",
   "metadata": {},
   "outputs": [
    {
     "name": "stdout",
     "output_type": "stream",
     "text": [
      "[1 4 5]\n"
     ]
    }
   ],
   "source": [
    "# advanced indexing\n",
    "import numpy as np\n",
    "x = np.array([[1,2],[3,4],[5,6]])\n",
    "y = x[[0,1,2],[0,1,0]]\n",
    "print(y)"
   ]
  },
  {
   "cell_type": "code",
   "execution_count": 60,
   "id": "31c526d4",
   "metadata": {},
   "outputs": [
    {
     "name": "stdout",
     "output_type": "stream",
     "text": [
      "our array is :\n",
      "[[ 0  1  2]\n",
      " [ 3  4  5]\n",
      " [ 6  7  8]\n",
      " [ 9 10 11]]\n",
      "the corner elements of this array are :\n",
      "[[ 0  2]\n",
      " [ 9 11]]\n"
     ]
    }
   ],
   "source": [
    "import numpy as np\n",
    "x = np.array([[0,1,2],[3,4,5],[6,7,8],[9,10,11]])\n",
    "print('our array is :')\n",
    "print(x)\n",
    "rows = np.array([[0,0],[3,3]])\n",
    "cols = np.array([[0,2],[0,2]])\n",
    "y = x[rows, cols]\n",
    "print('the corner elements of this array are :')\n",
    "print(y)"
   ]
  },
  {
   "cell_type": "code",
   "execution_count": 63,
   "id": "94fe2df1",
   "metadata": {},
   "outputs": [
    {
     "name": "stdout",
     "output_type": "stream",
     "text": [
      "our array is :\n",
      "[[ 0  1  2]\n",
      " [ 3  4  5]\n",
      " [ 6  7  8]\n",
      " [ 9 10 11]]\n",
      "\n",
      "\n",
      "after slicing our array becomes:\n",
      "[[ 4  5]\n",
      " [ 7  8]\n",
      " [10 11]]\n",
      "\n",
      "\n",
      "using advanced index in columns\n",
      "[[ 4  5]\n",
      " [ 7  8]\n",
      " [10 11]]\n"
     ]
    }
   ],
   "source": [
    "import numpy as np\n",
    "x = np.array([[0,1,2],[3,4,5],[6,7,8],[9,10,11]])\n",
    "print('our array is :')\n",
    "print(x)\n",
    "print('\\n')\n",
    "z = x[1:4,1:3]\n",
    "print('after slicing our array becomes:')\n",
    "print(z)\n",
    "\n",
    "print('\\n')\n",
    "# using advanced index for columns \n",
    "y = x[1:4,[1,2]]\n",
    "print('using advanced index in columns')\n",
    "print(y)\n"
   ]
  },
  {
   "cell_type": "code",
   "execution_count": 64,
   "id": "4f00ccac",
   "metadata": {},
   "outputs": [
    {
     "name": "stdout",
     "output_type": "stream",
     "text": [
      "our array is :\n",
      "[[ 0  1  2]\n",
      " [ 3  4  5]\n",
      " [ 6  7  8]\n",
      " [ 9 10 11]]\n",
      "\n",
      "\n",
      " the items greater than 5:\n",
      "[ 6  7  8  9 10 11]\n"
     ]
    }
   ],
   "source": [
    "import numpy as np\n",
    "x = np.array([[0,1,2],[3,4,5],[6,7,8],[9,10,11]])\n",
    "print('our array is :')\n",
    "print(x)\n",
    "print('\\n')\n",
    "print(' the items greater than 5:')\n",
    "print(x[x>5])\n"
   ]
  },
  {
   "cell_type": "code",
   "execution_count": 65,
   "id": "9e2dfc8d",
   "metadata": {},
   "outputs": [
    {
     "name": "stdout",
     "output_type": "stream",
     "text": [
      "[1 2 3 4 5]\n"
     ]
    }
   ],
   "source": [
    "import numpy as np\n",
    "a = np.array([1,2,3,4,5])\n",
    "print(a[~np.isnan(a)])"
   ]
  },
  {
   "cell_type": "code",
   "execution_count": 66,
   "id": "a8d0b122",
   "metadata": {},
   "outputs": [
    {
     "name": "stdout",
     "output_type": "stream",
     "text": [
      "[2. +6.j 3.5+5.j]\n"
     ]
    }
   ],
   "source": [
    "import numpy as np\n",
    "a = np.array([1,2+6j, 5,3.5+5j])\n",
    "print(a[np.iscomplex(a)])"
   ]
  },
  {
   "cell_type": "code",
   "execution_count": 67,
   "id": "930ff6f2",
   "metadata": {},
   "outputs": [
    {
     "name": "stdout",
     "output_type": "stream",
     "text": [
      "[ 10  40  90 160]\n",
      "[11 22 33 44]\n"
     ]
    }
   ],
   "source": [
    "# 2.5 numpy Broadcasting\n",
    "import numpy as np\n",
    "a = np.array([1,2,3,4])\n",
    "b = np.array([10,20,30,40])\n",
    "c = a*b\n",
    "print(c)\n",
    "d = a+b\n",
    "print(d)"
   ]
  },
  {
   "cell_type": "code",
   "execution_count": 68,
   "id": "d0b91c8c",
   "metadata": {},
   "outputs": [
    {
     "name": "stdout",
     "output_type": "stream",
     "text": [
      "first array:\n",
      "[[ 0  0  0]\n",
      " [10 10 10]\n",
      " [20 20 20]\n",
      " [30 30 30]]\n",
      "\n",
      "\n",
      "second array:\n",
      "[1 2 3]\n",
      "\n",
      "\n",
      "[[ 1  2  3]\n",
      " [11 12 13]\n",
      " [21 22 23]\n",
      " [31 32 33]]\n"
     ]
    }
   ],
   "source": [
    "import numpy as np\n",
    "a = np.array([[0,0,0],[10,10,10],[20,20,20],[30,30,30]])\n",
    "b = np.array([1,2,3])\n",
    "print('first array:')\n",
    "print(a)\n",
    "print('\\n')\n",
    "print('second array:')\n",
    "print(b)\n",
    "print('\\n')\n",
    "print(a+b)\n"
   ]
  },
  {
   "cell_type": "code",
   "execution_count": 69,
   "id": "09faea72",
   "metadata": {},
   "outputs": [
    {
     "name": "stdout",
     "output_type": "stream",
     "text": [
      "[[ 0  0  0]\n",
      " [10 20 30]\n",
      " [20 40 60]\n",
      " [30 60 90]]\n",
      "[[-1 -2 -3]\n",
      " [ 9  8  7]\n",
      " [19 18 17]\n",
      " [29 28 27]]\n",
      "[[ 0.          0.          0.        ]\n",
      " [10.          5.          3.33333333]\n",
      " [20.         10.          6.66666667]\n",
      " [30.         15.         10.        ]]\n"
     ]
    }
   ],
   "source": [
    "print(a*b)\n",
    "print(a-b)\n",
    "print(a/b)\n"
   ]
  },
  {
   "cell_type": "code",
   "execution_count": 70,
   "id": "47064dde",
   "metadata": {},
   "outputs": [
    {
     "name": "stdout",
     "output_type": "stream",
     "text": [
      "original array\n",
      "[[ 0  5 10 15]\n",
      " [20 25 30 35]\n",
      " [40 45 50 55]]\n",
      "modified array\n",
      "0\n",
      "5\n",
      "10\n",
      "15\n",
      "20\n",
      "25\n",
      "30\n",
      "35\n",
      "40\n",
      "45\n",
      "50\n",
      "55\n",
      "Transpose of a:\n",
      "[[ 0 20 40]\n",
      " [ 5 25 45]\n",
      " [10 30 50]\n",
      " [15 35 55]]\n",
      "sorted in type :C\n",
      "[[ 0 20 40]\n",
      " [ 5 25 45]\n",
      " [10 30 50]\n",
      " [15 35 55]]\n",
      "0\n",
      "20\n",
      "40\n",
      "5\n",
      "25\n",
      "45\n",
      "10\n",
      "30\n",
      "50\n",
      "15\n",
      "35\n",
      "55\n",
      "sorted in F style order\n",
      "[[ 0 20 40]\n",
      " [ 5 25 45]\n",
      " [10 30 50]\n",
      " [15 35 55]]\n",
      "0\n",
      "5\n",
      "10\n",
      "15\n",
      "20\n",
      "25\n",
      "30\n",
      "35\n",
      "40\n",
      "45\n",
      "50\n",
      "55\n"
     ]
    }
   ],
   "source": [
    "# iterating over array\n",
    "import numpy as np\n",
    "a =np.arange(0,60,5)\n",
    "a = a.reshape(3,4)\n",
    "print('original array')\n",
    "print(a)\n",
    "\n",
    "print('modified array')\n",
    "for x in np.nditer(a):\n",
    "    print(x)\n",
    "    \n",
    "print('Transpose of a:')\n",
    "b = a.T\n",
    "print(b)\n",
    "\n",
    "print('sorted in type :C')\n",
    "c = b.copy(order= 'C')\n",
    "print(c)\n",
    "for x in np.nditer(c):\n",
    "    print(x)\n",
    "\n",
    "print('sorted in F style order')\n",
    "c = b.copy(order= 'F')\n",
    "print(c)\n",
    "for x in np.nditer(c):\n",
    "    print(x)"
   ]
  },
  {
   "cell_type": "markdown",
   "id": "bd69b7e1",
   "metadata": {},
   "source": [
    "### 2.7 Mathematical functions\n",
    "#### trigonometric functions"
   ]
  },
  {
   "cell_type": "code",
   "execution_count": 71,
   "id": "6684471b",
   "metadata": {},
   "outputs": [
    {
     "name": "stdout",
     "output_type": "stream",
     "text": [
      "sin of different angles\n",
      "[0.         0.5        0.70710678 0.8660254  1.        ]\n",
      "\n",
      "\n",
      "cosine of different angles\n",
      "[1.00000000e+00 8.66025404e-01 7.07106781e-01 5.00000000e-01\n",
      " 6.12323400e-17]\n",
      "\n",
      "\n",
      "tangent of different angles\n",
      "[0.00000000e+00 5.77350269e-01 1.00000000e+00 1.73205081e+00\n",
      " 1.63312394e+16]\n",
      "\n",
      "\n"
     ]
    }
   ],
   "source": [
    "\n",
    "import numpy as np\n",
    "a = np.array([0,30,45,60,90])\n",
    "\n",
    "print('sin of different angles')\n",
    "print(np.sin(a*np.pi/180))\n",
    "print('\\n')\n",
    "\n",
    "print('cosine of different angles')\n",
    "print(np.cos(a*np.pi/180))\n",
    "print('\\n')\n",
    "\n",
    "print('tangent of different angles')\n",
    "print(np.tan(a*np.pi/180))\n",
    "print('\\n')"
   ]
  },
  {
   "cell_type": "code",
   "execution_count": null,
   "id": "3ac10fdb",
   "metadata": {},
   "outputs": [],
   "source": []
  },
  {
   "cell_type": "code",
   "execution_count": 72,
   "id": "7a757696",
   "metadata": {},
   "outputs": [
    {
     "name": "stdout",
     "output_type": "stream",
     "text": [
      "sin of different angles\n",
      "[0.         0.5        0.70710678 0.8660254  1.        ]\n",
      "\n",
      "\n",
      "compute sin inverse of values. returned values are in radians\n",
      "check result by converting to degrees:\n",
      "[ 0. 30. 45. 60. 90.]\n",
      "arccosine and arctan functions behave similarly:\n",
      "[1.00000000e+00 8.66025404e-01 7.07106781e-01 5.00000000e-01\n",
      " 6.12323400e-17]\n",
      "\n",
      "\n",
      "inverse of cos\n",
      "[0.         0.52359878 0.78539816 1.04719755 1.57079633]\n",
      "\n",
      "\n",
      "in degrees:\n",
      "[ 0. 30. 45. 60. 90.]\n",
      "\n",
      "\n",
      "tangent function\n",
      "[0.00000000e+00 5.77350269e-01 1.00000000e+00 1.73205081e+00\n",
      " 1.63312394e+16]\n",
      "\n",
      "\n",
      "inverse of a tan\n",
      "[0.         0.52359878 0.78539816 1.04719755 1.57079633]\n",
      "\n",
      "\n",
      "in degrees :\n",
      "[ 0. 30. 45. 60. 90.]\n"
     ]
    }
   ],
   "source": [
    "# 2.7 Mathematical functions\n",
    "# trigonometric functions\n",
    "import numpy as np\n",
    "a = np.array([0,30,45,60,90])\n",
    "\n",
    "print('sin of different angles')\n",
    "sin = np.sin(a*np.pi/180)\n",
    "print(sin)\n",
    "print('\\n')\n",
    "print('compute sin inverse of values. returned values are in radians')\n",
    "inv = np.arcsin(sin)\n",
    "print('check result by converting to degrees:')\n",
    "print(np.degrees(inv))\n",
    "\n",
    "\n",
    "\n",
    "\n",
    "print('arccosine and arctan functions behave similarly:')\n",
    "cos = np.cos(a*np.pi/180)\n",
    "print(cos)\n",
    "print('\\n')\n",
    "print(\"inverse of cos\")\n",
    "inv = np.arccos(cos)\n",
    "print(inv)\n",
    "print('\\n')\n",
    "print('in degrees:')\n",
    "print(np.degrees(inv))\n",
    "print('\\n')\n",
    "\n",
    "print('tangent function')\n",
    "tan = np.tan(a*np.pi/180)\n",
    "print(tan)\n",
    "print('\\n')\n",
    "print('inverse of a tan')\n",
    "inv = np.arctan(tan)\n",
    "print(inv)\n",
    "print('\\n')\n",
    "print('in degrees :')\n",
    "print(np.degrees(inv))"
   ]
  },
  {
   "cell_type": "code",
   "execution_count": 73,
   "id": "1deaa57e",
   "metadata": {},
   "outputs": [
    {
     "name": "stdout",
     "output_type": "stream",
     "text": [
      "sin of different angles\n",
      "[0.         0.5        0.70710678 0.8660254  1.        ]\n",
      "\n",
      "\n",
      "compute sin inverse of values. returned values are in radians\n",
      "check result by converting to degrees:\n",
      "[ 0. 30. 45. 60. 90.]\n",
      "arccosine and arctan functions behave similarly:\n",
      "[1.00000000e+00 8.66025404e-01 7.07106781e-01 5.00000000e-01\n",
      " 6.12323400e-17]\n",
      "\n",
      "\n",
      "inverse of cos\n",
      "[0.         0.52359878 0.78539816 1.04719755 1.57079633]\n",
      "\n",
      "\n",
      "in degrees:\n",
      "[ 0. 30. 45. 60. 90.]\n",
      "\n",
      "\n",
      "tangent function\n",
      "[0.00000000e+00 5.77350269e-01 1.00000000e+00 1.73205081e+00\n",
      " 1.63312394e+16]\n",
      "\n",
      "\n",
      "inverse of a tan\n",
      "[0.         0.52359878 0.78539816 1.04719755 1.57079633]\n",
      "\n",
      "\n",
      "in degrees :\n",
      "[ 0. 30. 45. 60. 90.]\n"
     ]
    }
   ],
   "source": [
    "# 2.7 Mathematical functions\n",
    "# trigonometric functions\n",
    "import numpy as np\n",
    "a = np.array([0,30,45,60,90])\n",
    "\n",
    "print('sin of different angles')\n",
    "sin = np.sin(a*np.pi/180)\n",
    "print(sin)\n",
    "print('\\n')\n",
    "print('compute sin inverse of values. returned values are in radians')\n",
    "inv = np.arcsin(sin)\n",
    "print('check result by converting to degrees:')\n",
    "print(np.degrees(inv))\n",
    "\n",
    "\n",
    "\n",
    "\n",
    "print('arccosine and arctan functions behave similarly:')\n",
    "cos = np.cos(a*np.pi/180)\n",
    "print(cos)\n",
    "print('\\n')\n",
    "print(\"inverse of cos\")\n",
    "inv = np.arccos(cos)\n",
    "print(inv)\n",
    "print('\\n')\n",
    "print('in degrees:')\n",
    "print(np.degrees(inv))\n",
    "print('\\n')\n",
    "\n",
    "print('tangent function')\n",
    "tan = np.tan(a*np.pi/180)\n",
    "print(tan)\n",
    "print('\\n')\n",
    "print('inverse of a tan')\n",
    "inv = np.arctan(tan)\n",
    "print(inv)\n",
    "print('\\n')\n",
    "print('in degrees :')\n",
    "print(np.degrees(inv))"
   ]
  },
  {
   "cell_type": "code",
   "execution_count": 74,
   "id": "5f200bb6",
   "metadata": {},
   "outputs": [
    {
     "name": "stdout",
     "output_type": "stream",
     "text": [
      "original array:\n",
      "[  1.      5.55  123.      0.567  25.532]\n",
      "after rounding\n",
      "[  1.   6. 123.   1.  26.]\n",
      "[  1.    5.6 123.    0.6  25.5]\n",
      "[  0.  10. 120.   0.  30.]\n"
     ]
    }
   ],
   "source": [
    "import numpy as np\n",
    "a = np.array([1.0,5.55,123,0.567,25.532])\n",
    "\n",
    "print(\"original array:\")\n",
    "print(a)\n",
    "\n",
    "\n",
    "print('after rounding')\n",
    "\n",
    "print(np.around(a))\n",
    "\n",
    "print(np.around(a, decimals= 1))\n",
    "\n",
    "print(np.around(a, decimals= -1))"
   ]
  },
  {
   "cell_type": "code",
   "execution_count": 75,
   "id": "4dbe9eeb",
   "metadata": {},
   "outputs": [
    {
     "name": "stdout",
     "output_type": "stream",
     "text": [
      "[-1.7  1.5 -0.2  0.6 10. ]\n",
      "[-2.  1. -1.  0. 10.]\n",
      "[-1.  2. -0.  1. 10.]\n"
     ]
    }
   ],
   "source": [
    "import numpy as np\n",
    "a = np.array([-1.7,1.5,-0.2,0.6,10])\n",
    "print(a)\n",
    "print(np.floor(a))\n",
    "print(np.ceil(a))\n",
    "\n",
    "\n",
    "\n"
   ]
  },
  {
   "cell_type": "code",
   "execution_count": 76,
   "id": "67c84b62",
   "metadata": {},
   "outputs": [
    {
     "name": "stdout",
     "output_type": "stream",
     "text": [
      "[[0. 1. 2.]\n",
      " [3. 4. 5.]\n",
      " [6. 7. 8.]]\n",
      "first array:\n",
      "[[0. 1. 2.]\n",
      " [3. 4. 5.]\n",
      " [6. 7. 8.]]\n",
      "\n",
      "\n",
      "second array:\n",
      "[10 10 10]\n",
      "\n",
      "\n",
      "add two arrays:\n",
      "[[10. 11. 12.]\n",
      " [13. 14. 15.]\n",
      " [16. 17. 18.]]\n",
      "\n",
      "\n",
      "subtract array:\n",
      "[[-10.  -9.  -8.]\n",
      " [ -7.  -6.  -5.]\n",
      " [ -4.  -3.  -2.]]\n",
      "\n",
      "\n",
      "multiply the two arrays:\n",
      "[[ 0. 10. 20.]\n",
      " [30. 40. 50.]\n",
      " [60. 70. 80.]]\n",
      "divide both arrays:\n",
      "[[0.  0.1 0.2]\n",
      " [0.3 0.4 0.5]\n",
      " [0.6 0.7 0.8]]\n"
     ]
    }
   ],
   "source": [
    "# 2.8 Arithematic operations\n",
    "import numpy as np\n",
    "a = np.arange(9,dtype= np.float_).reshape(3,3)\n",
    "print(a)\n",
    "\n",
    "print('first array:')\n",
    "print(a)\n",
    "print('\\n')\n",
    "\n",
    "print('second array:')\n",
    "b = np.array([10,10,10])\n",
    "print(b)\n",
    "print('\\n')\n",
    "\n",
    "print('add two arrays:')\n",
    "print(a + b)\n",
    "print('\\n')\n",
    "\n",
    "\n",
    "print('subtract array:')\n",
    "print(np.subtract(a,b))\n",
    "print('\\n')\n",
    "\n",
    "print('multiply the two arrays:')\n",
    "print(np.multiply(a,b))\n",
    "\n",
    "print('divide both arrays:')\n",
    "print(np.divide(a,b))\n"
   ]
  },
  {
   "cell_type": "code",
   "execution_count": 77,
   "id": "355a1bfe",
   "metadata": {},
   "outputs": [
    {
     "name": "stdout",
     "output_type": "stream",
     "text": [
      "[  0.25   1.33   1.     0.   100.  ]\n",
      "[4.        0.7518797 1.              inf 0.01     ]\n",
      "[100]\n",
      "[0]\n"
     ]
    },
    {
     "name": "stderr",
     "output_type": "stream",
     "text": [
      "C:\\Users\\MTEXH\\AppData\\Local\\Temp/ipykernel_3652/1716832626.py:4: RuntimeWarning: divide by zero encountered in reciprocal\n",
      "  print(np.reciprocal(a))\n"
     ]
    }
   ],
   "source": [
    "import numpy as np\n",
    "a = np.array([0.25,1.33,1,0,100])\n",
    "print(a)\n",
    "print(np.reciprocal(a))\n",
    "\n",
    "b = np.array([100],dtype = int)\n",
    "print(b)\n",
    "print(np.reciprocal(b))"
   ]
  },
  {
   "cell_type": "code",
   "execution_count": 78,
   "id": "c640208c",
   "metadata": {},
   "outputs": [
    {
     "name": "stdout",
     "output_type": "stream",
     "text": [
      "[  10  100 1000]\n",
      "[    100   10000 1000000]\n",
      "[3 2 1]\n",
      "[ 1000 10000  1000]\n"
     ]
    }
   ],
   "source": [
    "import numpy as np\n",
    "a = np.array([10,100,1000])\n",
    "print(a)\n",
    "\n",
    "print(np.power(a,2))\n",
    "b = np.array([3,2,1])\n",
    "print(b)\n",
    "print(np.power(a,b))"
   ]
  },
  {
   "cell_type": "code",
   "execution_count": 79,
   "id": "dc6fbef8",
   "metadata": {},
   "outputs": [
    {
     "name": "stdout",
     "output_type": "stream",
     "text": [
      "[  10  100 1000]\n",
      "[    100   10000 1000000]\n",
      "[3 2 1]\n",
      "[ 1000 10000  1000]\n"
     ]
    }
   ],
   "source": [
    "import numpy as np\n",
    "a = np.array([10,100,1000])\n",
    "print(a)\n",
    "\n",
    "print(np.power(a,2))\n",
    "b = np.array([3,2,1])\n",
    "print(b)\n",
    "print(np.power(a,b))"
   ]
  },
  {
   "cell_type": "code",
   "execution_count": 80,
   "id": "8b9cabb9",
   "metadata": {},
   "outputs": [
    {
     "name": "stdout",
     "output_type": "stream",
     "text": [
      "[10 20 30]\n",
      "[3 5 7]\n",
      "[1 0 2]\n",
      "[1 0 2]\n"
     ]
    }
   ],
   "source": [
    "import numpy as np \n",
    "a = np.array([10,20,30])\n",
    "print(a)\n",
    "b = np.array([3,5,7])\n",
    "print(b)\n",
    "\n",
    "print(np.mod(a,b))\n",
    "print(np.remainder(a,b))"
   ]
  },
  {
   "cell_type": "code",
   "execution_count": 81,
   "id": "feba0b5d",
   "metadata": {},
   "outputs": [
    {
     "name": "stdout",
     "output_type": "stream",
     "text": [
      "[-0.-5.6j  0.+0.2j 11.+0.j   1.+1.j ]\n",
      "[-0.  0. 11.  1.]\n",
      "[-5.6  0.2  0.   1. ]\n",
      "[-0.+5.6j  0.-0.2j 11.-0.j   1.-1.j ]\n",
      "[-1.57079633  1.57079633  0.          0.78539816]\n"
     ]
    }
   ],
   "source": [
    "import numpy as np \n",
    "a = np.array([-5.6j, 0.2j ,11., 1+1j])\n",
    "print(a)\n",
    "print(np.real(a))\n",
    "print(np.imag(a))\n",
    "print(np.conj(a))\n",
    "print(np.angle(a))"
   ]
  },
  {
   "cell_type": "code",
   "execution_count": 82,
   "id": "875af081",
   "metadata": {},
   "outputs": [
    {
     "name": "stdout",
     "output_type": "stream",
     "text": [
      "[[1 2 3]\n",
      " [4 5 6]\n",
      " [6 7 8]]\n",
      "[1 4 6]\n",
      "1\n",
      "[1 2 3]\n",
      "8\n",
      "[6 7 8]\n"
     ]
    }
   ],
   "source": [
    "# statistical functions\n",
    "import numpy as np\n",
    "a = np.array([[1,2,3],[4,5,6],[6,7,8]])\n",
    "print(a)\n",
    "print(np.amin(a,1))\n",
    "\n",
    "print(np.amin(a))\n",
    "print(np.amin(a,0))\n",
    "\n",
    "print(np.amax(a))\n",
    "\n",
    "print(np.amax(a, axis = 0))"
   ]
  },
  {
   "cell_type": "code",
   "execution_count": 83,
   "id": "2dedfc84",
   "metadata": {},
   "outputs": [
    {
     "name": "stdout",
     "output_type": "stream",
     "text": [
      "[[0 2 3]\n",
      " [4 5 6]\n",
      " [6 7 9]]\n",
      "9\n",
      "[3 2 3]\n",
      "[6 5 6]\n"
     ]
    }
   ],
   "source": [
    "import numpy as np\n",
    "a = np.array([[0,2,3],[4,5,6],[6,7,9]])\n",
    "print(a)\n",
    "print(np.ptp(a))\n",
    "print(np.ptp(a, axis = 1))\n",
    "print(np.ptp(a, axis = 0))"
   ]
  },
  {
   "cell_type": "code",
   "execution_count": 84,
   "id": "5af5dba7",
   "metadata": {},
   "outputs": [
    {
     "name": "stdout",
     "output_type": "stream",
     "text": [
      "[[30 40 70]\n",
      " [80 20 10]\n",
      " [50 90 60]]\n",
      "50.0\n",
      "[50. 40. 60.]\n"
     ]
    }
   ],
   "source": [
    "import numpy as np\n",
    "a = np.array([[30,40,70],[80,20,10],[50,90,60]])\n",
    "print(a)\n",
    "print(np.percentile(a,50))\n",
    "print(np.percentile(a,50,axis= 0))     "
   ]
  },
  {
   "cell_type": "code",
   "execution_count": 85,
   "id": "53b02607",
   "metadata": {},
   "outputs": [
    {
     "name": "stdout",
     "output_type": "stream",
     "text": [
      "[[30 40 70]\n",
      " [80 20 10]\n",
      " [50 90 60]]\n",
      "50.0\n",
      "[50. 40. 60.]\n"
     ]
    }
   ],
   "source": [
    "import numpy as np\n",
    "a = np.array([[30,40,70],[80,20,10],[50,90,60]])\n",
    "print(a)\n",
    "print(np.percentile(a,50))\n",
    "print(np.percentile(a,50,axis= 0))     "
   ]
  },
  {
   "cell_type": "code",
   "execution_count": 86,
   "id": "8164171e",
   "metadata": {},
   "outputs": [
    {
     "name": "stdout",
     "output_type": "stream",
     "text": [
      "[[30 40 70]\n",
      " [80 20 10]\n",
      " [50 90 60]]\n",
      "50.0\n",
      "[40. 20. 60.]\n",
      "[50. 40. 60.]\n"
     ]
    }
   ],
   "source": [
    "import numpy as np\n",
    "a = np.array([[30,40,70],[80,20,10],[50,90,60]])\n",
    "print(a)\n",
    "print(np.median(a))\n",
    "print(np.median(a,axis = 1))\n",
    "print(np.median(a,axis = 0))"
   ]
  },
  {
   "cell_type": "code",
   "execution_count": 87,
   "id": "f4cfa87c",
   "metadata": {},
   "outputs": [
    {
     "name": "stdout",
     "output_type": "stream",
     "text": [
      "2.5\n",
      "2.0\n"
     ]
    }
   ],
   "source": [
    "import numpy as np\n",
    "a = np.array([1,2,3,4])\n",
    "print(np.average(a))\n",
    "wts = np.array([4,3,2,1])\n",
    "print(np.average(a, weights = wts))"
   ]
  },
  {
   "cell_type": "code",
   "execution_count": 88,
   "id": "ccfeed21",
   "metadata": {},
   "outputs": [
    {
     "name": "stdout",
     "output_type": "stream",
     "text": [
      "1.118033988749895\n"
     ]
    }
   ],
   "source": [
    "import numpy as np\n",
    "print(np.std([1,2,3,4]))"
   ]
  },
  {
   "cell_type": "code",
   "execution_count": 89,
   "id": "37f1b8cf",
   "metadata": {},
   "outputs": [
    {
     "name": "stdout",
     "output_type": "stream",
     "text": [
      "1.25\n"
     ]
    }
   ],
   "source": [
    "import numpy as np\n",
    "print(np.var([1,2,3,4]))"
   ]
  },
  {
   "cell_type": "code",
   "execution_count": 90,
   "id": "16e87fdd",
   "metadata": {},
   "outputs": [
    {
     "name": "stdout",
     "output_type": "stream",
     "text": [
      "The shape of mat is: (3, 3)\n",
      "The shape of new_mat is: (1, 9)\n",
      "The transposed shape of new_mat is: (9, 1)\n",
      "The max is 31 at index 7\n",
      "The min is 1 at index 0\n",
      "It took 1.3666 seconds to calculate dot product!\n",
      "It took 0.005 seconds to calculate dot product!\n"
     ]
    }
   ],
   "source": [
    "import numpy as np\n",
    "\n",
    "mat = np.array([[1,2,3], [4,5,6], [7,8,9]])\n",
    "print('The shape of mat is:', mat.shape)\n",
    "# it can be reshaped to any shape that is consistent with the data size\n",
    "new_mat = mat.reshape(1,9)\n",
    "print('The shape of new_mat is:', new_mat.shape)\n",
    "# you can try transposing it as well.\n",
    "trans_new_mat = new_mat.T\n",
    "print('The transposed shape of new_mat is:', trans_new_mat.shape)\n",
    "\n",
    "# you can create diagonal matrices, identity matrices\n",
    "diag = np.diag([1,2,3,4])\n",
    "identity = np.identity(10) # creates a 10 x 10 matrix with ones at diagonals and rest zeros \n",
    "\n",
    "# you can create arrays of random numbers or sequences \n",
    "seq = np.arange(start=0, stop=100, step=5) # creates an array starting from 0, with a step size of 5 till 100. [0,5,10,....,90,95]\n",
    "# If you only pass np.random.rand(10), it creates a 1D vector of length 10\n",
    "rands_1d = np.random.rand(10)\n",
    "rands_2d = np.random.rand(10, 10) # creates 10x10 matrix with random numbers. \n",
    "\n",
    "\n",
    "# you can find min and max and min as well as the index of max number or min number \n",
    "my_array = np.array([1,3,5,7,23,6,2,31,5]) \n",
    "print('The max is {} at index {}'.format(my_array.max(), my_array.argmax()))\n",
    "print('The min is {} at index {}'.format(my_array.min(), my_array.argmin()))\n",
    "\n",
    "import time \n",
    "# you can perform dot products of matrices in a matter of seconds \n",
    "my_mat = np.random.rand(1000, 1000)\n",
    "another_mat = np.random.rand(1000, 1000)\n",
    "start = time.time()\n",
    "# make sure the dimensions agree!\n",
    "dot_mul = my_mat.dot(another_mat)\n",
    "end = time.time()\n",
    "print('It took {} seconds to calculate dot product!'.format(round(end-start, 4)))\n",
    "\n",
    "start = time.time()\n",
    "prod = my_mat * another_mat\n",
    "end = time.time()\n",
    "print('It took {} seconds to calculate dot product!'.format(round(end-start, 4)))"
   ]
  },
  {
   "cell_type": "code",
   "execution_count": 91,
   "id": "7cc74bff",
   "metadata": {},
   "outputs": [
    {
     "name": "stdout",
     "output_type": "stream",
     "text": [
      "The shape of mat is: (3, 3)\n"
     ]
    }
   ],
   "source": [
    "import numpy as np\n",
    "mat = np.array([[1,2,3], [4,5,6], [7,8,9]])\n",
    "print('The shape of mat is:', mat.shape)"
   ]
  },
  {
   "cell_type": "code",
   "execution_count": 92,
   "id": "58be23c0",
   "metadata": {},
   "outputs": [
    {
     "name": "stdout",
     "output_type": "stream",
     "text": [
      "The shape of new_mat is: (1, 9)\n"
     ]
    }
   ],
   "source": [
    "import numpy as np\n",
    "# it can be reshaped to any shape that is consistent with the data size\n",
    "new_mat = mat.reshape(1,9)\n",
    "print('The shape of new_mat is:', new_mat.shape)"
   ]
  },
  {
   "cell_type": "code",
   "execution_count": 93,
   "id": "c3619b1d",
   "metadata": {},
   "outputs": [
    {
     "name": "stdout",
     "output_type": "stream",
     "text": [
      "The transposed shape of new_mat is: (9, 1)\n"
     ]
    }
   ],
   "source": [
    "import numpy as np\n",
    "# you can try transposing it as well.\n",
    "trans_new_mat = new_mat.T\n",
    "print('The transposed shape of new_mat is:', trans_new_mat.shape)\n"
   ]
  },
  {
   "cell_type": "code",
   "execution_count": 94,
   "id": "90f7ed2a",
   "metadata": {},
   "outputs": [
    {
     "name": "stdout",
     "output_type": "stream",
     "text": [
      "[[1 0 0 0]\n",
      " [0 2 0 0]\n",
      " [0 0 3 0]\n",
      " [0 0 0 4]]\n",
      "[[1. 0. 0. 0. 0. 0. 0. 0. 0. 0.]\n",
      " [0. 1. 0. 0. 0. 0. 0. 0. 0. 0.]\n",
      " [0. 0. 1. 0. 0. 0. 0. 0. 0. 0.]\n",
      " [0. 0. 0. 1. 0. 0. 0. 0. 0. 0.]\n",
      " [0. 0. 0. 0. 1. 0. 0. 0. 0. 0.]\n",
      " [0. 0. 0. 0. 0. 1. 0. 0. 0. 0.]\n",
      " [0. 0. 0. 0. 0. 0. 1. 0. 0. 0.]\n",
      " [0. 0. 0. 0. 0. 0. 0. 1. 0. 0.]\n",
      " [0. 0. 0. 0. 0. 0. 0. 0. 1. 0.]\n",
      " [0. 0. 0. 0. 0. 0. 0. 0. 0. 1.]]\n"
     ]
    }
   ],
   "source": [
    "import numpy as np\n",
    "# you can create diagonal matrices, identity matrices\n",
    "diag = np.diag([1,2,3,4])\n",
    "print(diag)\n",
    "identity = np.identity(10) # creates a 10 x 10 matrix with ones at diagonals and rest zeros\n",
    "print(identity)\n"
   ]
  },
  {
   "cell_type": "code",
   "execution_count": 95,
   "id": "bd2360d4",
   "metadata": {},
   "outputs": [
    {
     "data": {
      "text/plain": [
       "array([ 0,  5, 10, 15, 20, 25, 30, 35, 40, 45, 50, 55, 60, 65, 70, 75, 80,\n",
       "       85, 90, 95])"
      ]
     },
     "execution_count": 95,
     "metadata": {},
     "output_type": "execute_result"
    }
   ],
   "source": [
    "import numpy as np\n",
    "# you can create arrays of random numbers or sequences \n",
    "seq = np.arange(start=0, stop=100, step=5) # creates an array starting from 0, with a step size of 5 till 100. [0,5,10,....,90,95]\n",
    "seq"
   ]
  },
  {
   "cell_type": "code",
   "execution_count": 97,
   "id": "f935f78f",
   "metadata": {},
   "outputs": [
    {
     "name": "stdout",
     "output_type": "stream",
     "text": [
      "[0.53100512 0.64181544 0.74758849 0.82963448 0.29070569 0.01512947\n",
      " 0.30221209 0.50840077 0.61406678 0.57579316]\n",
      "its 2d matrix now:\n",
      "[[0.72354849 0.79870706 0.63935936 0.34809992 0.64177526 0.19519693\n",
      "  0.31818221 0.37583407 0.00301263 0.3217497 ]\n",
      " [0.60184653 0.86586353 0.44912764 0.52287526 0.66600079 0.54785262\n",
      "  0.89349135 0.48409487 0.07640657 0.81198217]\n",
      " [0.59953438 0.62891759 0.56453825 0.41932109 0.47270039 0.47135882\n",
      "  0.63395671 0.09894651 0.24815121 0.44240855]\n",
      " [0.64448389 0.66598265 0.41775122 0.10144844 0.81352419 0.26097071\n",
      "  0.28975709 0.46115402 0.58053387 0.22268743]\n",
      " [0.70894425 0.12582172 0.36992509 0.55124723 0.46037248 0.28063265\n",
      "  0.85240852 0.82617795 0.48022106 0.2715908 ]\n",
      " [0.68366041 0.87816134 0.52671515 0.76666283 0.99211357 0.4704192\n",
      "  0.49751744 0.55891737 0.50817461 0.38333716]\n",
      " [0.41336914 0.16143942 0.34297242 0.99682916 0.21149846 0.70775414\n",
      "  0.48986082 0.78567839 0.32113442 0.98430881]\n",
      " [0.69214358 0.66179429 0.5620942  0.42601438 0.60028684 0.01985332\n",
      "  0.51017827 0.80289555 0.08826297 0.79807336]\n",
      " [0.2165621  0.39264924 0.63611543 0.58083343 0.26265172 0.86154828\n",
      "  0.63570175 0.89662841 0.44380492 0.82291691]\n",
      " [0.92868461 0.12865818 0.96052111 0.36439188 0.87652175 0.24825761\n",
      "  0.00762895 0.54501246 0.13587292 0.12010244]]\n"
     ]
    }
   ],
   "source": [
    "import numpy as np\n",
    "# If you only pass np.random.rand(10), it creates a 1D vector of length 10\n",
    "rands_1d = np.random.rand(10)\n",
    "rands_2d = np.random.rand(10, 10) # creates 10x10 matrix with random numbers. \n",
    "print(rands_1d)\n",
    "print('its 2d matrix now:')\n",
    "print(rands_2d)"
   ]
  },
  {
   "cell_type": "code",
   "execution_count": 98,
   "id": "497d2725",
   "metadata": {},
   "outputs": [
    {
     "name": "stdout",
     "output_type": "stream",
     "text": [
      "The max is 123 at index 4\n",
      "The min is 0 at index 3\n"
     ]
    }
   ],
   "source": [
    "import numpy as np\n",
    "# you can find min and max and min as well as the index of max number or min number \n",
    "my_array = np.array([1,3,5,0,123,7,23,6,2,31,5]) \n",
    "print('The max is {} at index {}'.format(my_array.max(), my_array.argmax()))\n",
    "print('The min is {} at index {}'.format(my_array.min(), my_array.argmin()))\n"
   ]
  },
  {
   "cell_type": "code",
   "execution_count": 101,
   "id": "887cb2b0",
   "metadata": {},
   "outputs": [
    {
     "name": "stdout",
     "output_type": "stream",
     "text": [
      "[[245.30101127 239.56874602 236.62054981 ... 244.10614403 245.22233537\n",
      "  251.97129291]\n",
      " [250.66551638 246.19757276 250.85195015 ... 248.52125938 257.41114957\n",
      "  257.00418825]\n",
      " [244.46176353 242.49035824 243.60763963 ... 241.65460764 247.71346824\n",
      "  253.56605973]\n",
      " ...\n",
      " [244.66464077 240.84894995 244.56548386 ... 250.15898215 245.49216601\n",
      "  254.6909975 ]\n",
      " [247.23755772 243.98892205 246.82106297 ... 248.16353068 257.18387839\n",
      "  257.63176315]\n",
      " [249.93725084 245.51847785 246.94001301 ... 252.14923783 247.98860823\n",
      "  255.6117049 ]]\n",
      "It took 0.1269 seconds to calculate dot product!\n"
     ]
    }
   ],
   "source": [
    "import numpy as np\n",
    "import time \n",
    "# you can perform dot products of matrices in a matter of seconds \n",
    "my_mat = np.random.rand(1000, 1000)\n",
    "another_mat = np.random.rand(1000, 1000)\n",
    "start = time.time()\n",
    "# make sure the dimensions agree!\n",
    "dot_mul = my_mat.dot(another_mat)\n",
    "print(dot_mul)\n",
    "end = time.time()\n",
    "print('It took {} seconds to calculate dot product!'.format(round(end-start, 4)))\n"
   ]
  },
  {
   "cell_type": "code",
   "execution_count": 104,
   "id": "a9f2de79",
   "metadata": {},
   "outputs": [
    {
     "name": "stdout",
     "output_type": "stream",
     "text": [
      "1664175312.6378953\n",
      "It took -92.685 seconds to calculate dot product!\n"
     ]
    }
   ],
   "source": [
    "import numpy as np\n",
    "import time \n",
    "# you can perform dot products of matrices in a matter of seconds \n",
    "my_mat = np.random.rand(1000, 1000)\n",
    "my_mat\n",
    "start = time.time()\n",
    "print(start)\n",
    "print('It took {} seconds to calculate dot product!'.format(round(end-start, 4)))\n"
   ]
  },
  {
   "cell_type": "code",
   "execution_count": 105,
   "id": "a3531def",
   "metadata": {},
   "outputs": [
    {
     "name": "stdout",
     "output_type": "stream",
     "text": [
      "It took 0.1009 seconds to calculate dot product!\n",
      "It took 0.005 seconds to calculate dot product!\n"
     ]
    }
   ],
   "source": [
    "import numpy as np\n",
    "import time \n",
    "# you can perform dot products of matrices in a matter of seconds \n",
    "my_mat = np.random.rand(1000, 1000)\n",
    "another_mat = np.random.rand(1000, 1000)\n",
    "start = time.time()\n",
    "# make sure the dimensions agree!\n",
    "dot_mul = my_mat.dot(another_mat)\n",
    "end = time.time()\n",
    "print('It took {} seconds to calculate dot product!'.format(round(end-start, 4)))\n",
    "\n",
    "start = time.time()\n",
    "prod = my_mat * another_mat\n",
    "end = time.time()\n",
    "print('It took {} seconds to calculate dot product!'.format(round(end-start, 4)))"
   ]
  },
  {
   "cell_type": "code",
   "execution_count": 106,
   "id": "8e608127",
   "metadata": {},
   "outputs": [
    {
     "ename": "TypeError",
     "evalue": "Field elements must be 2- or 3-tuples, got '3'",
     "output_type": "error",
     "traceback": [
      "\u001b[1;31m---------------------------------------------------------------------------\u001b[0m",
      "\u001b[1;31mTypeError\u001b[0m                                 Traceback (most recent call last)",
      "\u001b[1;32m~\\AppData\\Local\\Temp/ipykernel_3652/2439072536.py\u001b[0m in \u001b[0;36m<module>\u001b[1;34m\u001b[0m\n\u001b[0;32m      4\u001b[0m \u001b[1;32mimport\u001b[0m \u001b[0mnumpy\u001b[0m\u001b[1;33m.\u001b[0m\u001b[0mlinalg\u001b[0m \u001b[1;32mas\u001b[0m \u001b[0mla\u001b[0m\u001b[1;33m\u001b[0m\u001b[1;33m\u001b[0m\u001b[0m\n\u001b[0;32m      5\u001b[0m \u001b[1;33m\u001b[0m\u001b[0m\n\u001b[1;32m----> 6\u001b[1;33m \u001b[0mmy_mat\u001b[0m \u001b[1;33m=\u001b[0m \u001b[0mnp\u001b[0m\u001b[1;33m.\u001b[0m\u001b[0marray\u001b[0m\u001b[1;33m(\u001b[0m\u001b[1;33m[\u001b[0m\u001b[1;36m1\u001b[0m\u001b[1;33m,\u001b[0m\u001b[1;36m2\u001b[0m\u001b[1;33m]\u001b[0m\u001b[1;33m,\u001b[0m \u001b[1;33m[\u001b[0m\u001b[1;36m3\u001b[0m\u001b[1;33m,\u001b[0m\u001b[1;36m4\u001b[0m\u001b[1;33m]\u001b[0m\u001b[1;33m)\u001b[0m\u001b[1;33m\u001b[0m\u001b[1;33m\u001b[0m\u001b[0m\n\u001b[0m\u001b[0;32m      7\u001b[0m \u001b[1;31m# calculate determinant\u001b[0m\u001b[1;33m\u001b[0m\u001b[1;33m\u001b[0m\u001b[0m\n\u001b[0;32m      8\u001b[0m \u001b[0mdet\u001b[0m \u001b[1;33m=\u001b[0m \u001b[0mla\u001b[0m\u001b[1;33m.\u001b[0m\u001b[0mdet\u001b[0m\u001b[1;33m(\u001b[0m\u001b[0mmy_mat\u001b[0m\u001b[1;33m)\u001b[0m\u001b[1;33m\u001b[0m\u001b[1;33m\u001b[0m\u001b[0m\n",
      "\u001b[1;31mTypeError\u001b[0m: Field elements must be 2- or 3-tuples, got '3'"
     ]
    }
   ],
   "source": [
    "\n",
    "import numpy as np\n",
    "\n",
    "# linear algebra \n",
    "import numpy.linalg as la \n",
    "\n",
    "my_mat = np.array([1,2], [3,4])\n",
    "# calculate determinant\n",
    "det = la.det(my_mat)\n",
    "# calculate inverse of a matrix. Inv = adj(matrix)/det(matrix). NOTE: Make sure its not SINGULAR!\n",
    "inverse_mat = la.inv(my_mat)\n",
    "# calculate eigen values. NOTE: make sure the matrix is SQUARE [eigen values do not exit for matrix whose dimensions are mxn where m!=n]!\n",
    "eig_values, eig_vectors = la.eig(my_mat)\n",
    "# calculate cholesky factorization. NOTE: make sure matrix is Positive Definite!\n",
    "cholesky = la.cholesky(np.array([[7,2], [2,1]]))\n",
    "# calculate rank of a matrix. Rank of a matrix is the number of linearly independent columns/rows in a matrix.\n",
    "rank = la.matrix_rank(my_mat)"
   ]
  },
  {
   "cell_type": "code",
   "execution_count": 107,
   "id": "c2173789",
   "metadata": {},
   "outputs": [
    {
     "name": "stdout",
     "output_type": "stream",
     "text": [
      "[[1 2]\n",
      " [3 4]]\n",
      "-2.0000000000000004\n",
      "[[-2.   1. ]\n",
      " [ 1.5 -0.5]]\n",
      "[-0.37228132  5.37228132] [[-0.82456484 -0.41597356]\n",
      " [ 0.56576746 -0.90937671]]\n",
      "[[2.64575131 0.        ]\n",
      " [0.75592895 0.65465367]]\n",
      "2\n"
     ]
    }
   ],
   "source": [
    "import numpy as np\n",
    "\n",
    "# linear algebra \n",
    "import numpy.linalg as la \n",
    "\n",
    "my_mat = np.array([[1,2], [3,4]])\n",
    "# calculate determinant\n",
    "det = la.det(my_mat)\n",
    "# calculate inverse of a matrix. Inv = adj(matrix)/det(matrix). NOTE: Make sure its not SINGULAR!\n",
    "inverse_mat = la.inv(my_mat)\n",
    "# calculate eigen values. NOTE: make sure the matrix is SQUARE [eigen values do not exit for matrix whose dimensions are mxn where m!=n]!\n",
    "eig_values, eig_vectors = la.eig(my_mat)\n",
    "# calculate cholesky factorization. NOTE: make sure matrix is Positive Definite!\n",
    "cholesky = la.cholesky(np.array([[7,2], [2,1]]))\n",
    "# calculate rank of a matrix. Rank of a matrix is the number of linearly independent columns/rows in a matrix.\n",
    "rank = la.matrix_rank(my_mat)\n",
    "print(my_mat)\n",
    "print(det)\n",
    "print(inverse_mat)\n",
    "print(eig_values, eig_vectors)\n",
    "print(cholesky)\n",
    "print(rank)"
   ]
  },
  {
   "cell_type": "code",
   "execution_count": 108,
   "id": "f57c4902",
   "metadata": {},
   "outputs": [
    {
     "data": {
      "text/plain": [
       "(array([-0.37228132,  5.37228132]),\n",
       " array([[-0.82456484, -0.41597356],\n",
       "        [ 0.56576746, -0.90937671]]))"
      ]
     },
     "execution_count": 108,
     "metadata": {},
     "output_type": "execute_result"
    }
   ],
   "source": [
    "import numpy.linalg as la\n",
    "# calculate eigen values. NOTE: make sure the matrix is SQUARE [eigen values do not exit for matrix whose dimensions are mxn where m!=n]!\n",
    "eig_values, eig_vectors = la.eig(my_mat)\n",
    "eig_values, eig_vectors"
   ]
  },
  {
   "cell_type": "code",
   "execution_count": 109,
   "id": "cde20726",
   "metadata": {},
   "outputs": [
    {
     "name": "stdout",
     "output_type": "stream",
     "text": [
      "2022-09-26 11:57:37.5097692022-09-26 11:57:37.554743\n",
      "Inverted: 0.1\n",
      "\n",
      "Cube: 1000\n",
      "Done!\n"
     ]
    }
   ],
   "source": [
    "\n",
    " import datetime\n",
    " import threading \n",
    "  \n",
    " def get_cubic(num): \n",
    "     print(datetime.datetime.now())\n",
    "     print(\"Cube: {}\".format(num * num * num)) \n",
    "  \n",
    " def get_inverse(num):\n",
    "     print(datetime.datetime.now())\n",
    "     print(\"Inverted: {}\".format(1 / num)) \n",
    "  \n",
    " if __name__ == \"__main__\": \n",
    "     # creating thread \n",
    "     t1 = threading.Thread(target=get_cubic, args=(10,)) \n",
    "     t2 = threading.Thread(target=get_inverse, args=(10,)) \n",
    "#     # Starting the threads \n",
    "     t1.start() \n",
    "     t2.start()\n",
    "#     # waiting for each to finish  \n",
    "     t1.join() \n",
    "     t2.join() \n",
    "#     # both threads completely executed \n",
    "     print(\"Done!\") "
   ]
  },
  {
   "cell_type": "markdown",
   "id": "43bb6f98",
   "metadata": {},
   "source": [
    "### 2.10 sort, search and counting functions"
   ]
  },
  {
   "cell_type": "code",
   "execution_count": 110,
   "id": "96a604cc",
   "metadata": {},
   "outputs": [
    {
     "name": "stdout",
     "output_type": "stream",
     "text": [
      "our main array:\n",
      "[[3 7]\n",
      " [9 1]]\n",
      "applying sort function:\n",
      "[[3 7]\n",
      " [1 9]]\n",
      "with axis zero:\n",
      "[[3 1]\n",
      " [9 7]]\n",
      "[(b'ajmal', 34) (b'anil', 25) (b'raju', 21) (b'ravi', 29)]\n"
     ]
    }
   ],
   "source": [
    "\n",
    "import numpy as np\n",
    "a = np.array([[3,7],[9,1]])\n",
    "print('our main array:')\n",
    "print(a)\n",
    "\n",
    "print('applying sort function:')\n",
    "print(np.sort(a))\n",
    "\n",
    "print('with axis zero:')\n",
    "print(np.sort(a, axis = 0))\n",
    "\n",
    "# order parameter in sort function\n",
    "dt = (np.dtype([('name','S10'),('age',int)]))\n",
    "a = (np.array([('raju',21),('anil',25),('ravi', 29),('ajmal',34)],dtype = dt))\n",
    "\n",
    "print(np.sort(a, order = 'name'))"
   ]
  },
  {
   "cell_type": "code",
   "execution_count": 111,
   "id": "eea8349f",
   "metadata": {},
   "outputs": [
    {
     "name": "stdout",
     "output_type": "stream",
     "text": [
      " our array\n",
      "[3 1 2]\n",
      "applying argsort():\n",
      "[1 2 0]\n",
      "reconstruct original array in sorted order\n",
      "[1 2 3]\n"
     ]
    }
   ],
   "source": [
    "import numpy as np\n",
    "x = np.array([3,1,2])\n",
    "print(' our array')\n",
    "print(x)\n",
    "\n",
    "print( 'applying argsort():')\n",
    "y = np.argsort(x)\n",
    "print(y)\n",
    "print('reconstruct original array in sorted order' )\n",
    "print(x[y])"
   ]
  },
  {
   "cell_type": "code",
   "execution_count": 112,
   "id": "d93c0ea8",
   "metadata": {},
   "outputs": [
    {
     "name": "stdout",
     "output_type": "stream",
     "text": [
      "[1 3 2 0]\n"
     ]
    }
   ],
   "source": [
    "import numpy as np\n",
    "nm = ('raju',' amar','dino', 'baghwan')\n",
    "dv = ('f.y.','s.y.','s.y.','f.y.')\n",
    "ind = np.lexsort((dv, nm))\n",
    "print(ind)"
   ]
  },
  {
   "cell_type": "code",
   "execution_count": 113,
   "id": "c4fa5dcb",
   "metadata": {},
   "outputs": [
    {
     "name": "stdout",
     "output_type": "stream",
     "text": [
      "[[30 40 70]\n",
      " [80 20 10]\n",
      " [50 90 60]]\n",
      "7\n"
     ]
    }
   ],
   "source": [
    "import numpy as np\n",
    "x = np.array([[30,40,70],[80,20,10],[50,90,60]])\n",
    "print(x)\n",
    "\n",
    "print(np.argmax(x))"
   ]
  },
  {
   "cell_type": "code",
   "execution_count": 114,
   "id": "21b28e88",
   "metadata": {},
   "outputs": [
    {
     "name": "stdout",
     "output_type": "stream",
     "text": [
      "[[30 40 70]\n",
      " [80 20 10]\n",
      " [50 90 60]]\n",
      "90\n"
     ]
    }
   ],
   "source": [
    "import numpy as np\n",
    "x = np.array([[30,40,70],[80,20,10],[50,90,60]])\n",
    "print(x)\n",
    "\n",
    "print(np.max(x))"
   ]
  },
  {
   "cell_type": "code",
   "execution_count": 115,
   "id": "d5eadd0a",
   "metadata": {},
   "outputs": [
    {
     "name": "stdout",
     "output_type": "stream",
     "text": [
      "[[30 40 70]\n",
      " [80 20 10]\n",
      " [50 90 60]]\n",
      "[30 40 70 80 20 10 50 90 60]\n"
     ]
    }
   ],
   "source": [
    "import numpy as np\n",
    "x = np.array([[30,40,70],[80,20,10],[50,90,60]])\n",
    "print(x)\n",
    "\n",
    "print(x.flatten())"
   ]
  },
  {
   "cell_type": "code",
   "execution_count": 116,
   "id": "f03de1c6",
   "metadata": {},
   "outputs": [
    {
     "name": "stdout",
     "output_type": "stream",
     "text": [
      "[[30 40 70]\n",
      " [80 20 10]\n",
      " [50 90 60]]\n",
      "10\n"
     ]
    }
   ],
   "source": [
    "import numpy as np\n",
    "x = np.array([[30,40,70],[80,20,10],[50,90,60]])\n",
    "print(x)\n",
    "\n",
    "print(np.min(x))"
   ]
  },
  {
   "cell_type": "code",
   "execution_count": 118,
   "id": "fe5f5512",
   "metadata": {},
   "outputs": [
    {
     "name": "stdout",
     "output_type": "stream",
     "text": [
      "[[30 40 70]\n",
      " [80 20 10]\n",
      " [50 90 60]]\n",
      "(array([0, 0, 0, 1, 1, 1, 2, 2, 2], dtype=int64), array([0, 1, 2, 0, 1, 2, 0, 1, 2], dtype=int64))\n"
     ]
    }
   ],
   "source": [
    "import numpy as np\n",
    "x = np.array([[30,40,70],[80,20,10],[50,90,60]])\n",
    "print(x)\n",
    "\n",
    "print(np.nonzero(x))"
   ]
  },
  {
   "cell_type": "code",
   "execution_count": 119,
   "id": "4c22220f",
   "metadata": {},
   "outputs": [
    {
     "name": "stdout",
     "output_type": "stream",
     "text": [
      "[[0. 1. 2.]\n",
      " [3. 4. 5.]\n",
      " [6. 7. 8.]]\n",
      "[[ True False  True]\n",
      " [False  True False]\n",
      " [ True False  True]]\n"
     ]
    }
   ],
   "source": [
    "import numpy as np \n",
    "x = np.arange(9.).reshape(3,3)\n",
    "print(x) \n",
    "#def a condition \n",
    "condition = np.mod(x,2) == 0\n",
    "print(condition)"
   ]
  },
  {
   "cell_type": "code",
   "execution_count": 120,
   "id": "554e1893",
   "metadata": {},
   "outputs": [
    {
     "name": "stdout",
     "output_type": "stream",
     "text": [
      "[[-0.82456484 -0.41597356]\n",
      " [ 0.56576746 -0.90937671]]\n"
     ]
    }
   ],
   "source": [
    "# 2.11 Byte swaping\n",
    "#2.12 Matrix library\n",
    "import numpy.matlib \n",
    "import  numpy as np\n",
    "print(np.matlib.empty((2,2)))"
   ]
  },
  {
   "cell_type": "code",
   "execution_count": 121,
   "id": "0b9d1cc2",
   "metadata": {},
   "outputs": [
    {
     "name": "stdout",
     "output_type": "stream",
     "text": [
      "[[0. 0.]\n",
      " [0. 0.]]\n"
     ]
    }
   ],
   "source": [
    "import numpy.matlib \n",
    "import  numpy as np\n",
    "print(np.matlib.zeros((2,2)))"
   ]
  },
  {
   "cell_type": "code",
   "execution_count": 122,
   "id": "7f8e2bfe",
   "metadata": {},
   "outputs": [
    {
     "name": "stdout",
     "output_type": "stream",
     "text": [
      "[[1. 0. 0. 0.]\n",
      " [0. 1. 0. 0.]\n",
      " [0. 0. 1. 0.]]\n"
     ]
    }
   ],
   "source": [
    "import numpy.matlib \n",
    "import  numpy as np\n",
    "print(np.matlib.eye(n=3, M=4, k = 0, dtype = float))"
   ]
  },
  {
   "cell_type": "code",
   "execution_count": 123,
   "id": "1b661fd9",
   "metadata": {},
   "outputs": [
    {
     "name": "stdout",
     "output_type": "stream",
     "text": [
      "[[1. 0. 0. 0. 0. 0.]\n",
      " [0. 1. 0. 0. 0. 0.]\n",
      " [0. 0. 1. 0. 0. 0.]\n",
      " [0. 0. 0. 1. 0. 0.]\n",
      " [0. 0. 0. 0. 1. 0.]\n",
      " [0. 0. 0. 0. 0. 1.]]\n"
     ]
    }
   ],
   "source": [
    "import numpy.matlib \n",
    "import  numpy as np\n",
    "print(np.matlib.identity(6, dtype = float))"
   ]
  },
  {
   "cell_type": "code",
   "execution_count": 124,
   "id": "0f6a6014",
   "metadata": {},
   "outputs": [
    {
     "name": "stdout",
     "output_type": "stream",
     "text": [
      "[[ 1 10]\n",
      " [ 3 14]]\n",
      "we are going different\n",
      "[[ 1 10]\n",
      " [ 3 14]]\n"
     ]
    }
   ],
   "source": [
    "import numpy.matlib \n",
    "import  numpy as np\n",
    "i = np.matrix('1,10;3,14')\n",
    "print(i)\n",
    "print('we are going different')\n",
    "j = np.asarray(i)\n",
    "print(j)"
   ]
  },
  {
   "cell_type": "code",
   "execution_count": 133,
   "id": "e1a41235",
   "metadata": {},
   "outputs": [
    {
     "name": "stdout",
     "output_type": "stream",
     "text": [
      "[[ 0  1  2  3]\n",
      " [ 4  5  6  7]\n",
      " [ 8  9 10 11]\n",
      " [12 13 14 15]]\n",
      "extract triangular mat\n"
     ]
    },
    {
     "ename": "AttributeError",
     "evalue": "module 'numpy.linalg' has no attribute 'A'",
     "output_type": "error",
     "traceback": [
      "\u001b[1;31m---------------------------------------------------------------------------\u001b[0m",
      "\u001b[1;31mAttributeError\u001b[0m                            Traceback (most recent call last)",
      "\u001b[1;32m~\\AppData\\Local\\Temp/ipykernel_3652/4233169707.py\u001b[0m in \u001b[0;36m<module>\u001b[1;34m\u001b[0m\n\u001b[0;32m      3\u001b[0m \u001b[0mprint\u001b[0m\u001b[1;33m(\u001b[0m\u001b[0mA\u001b[0m\u001b[1;33m)\u001b[0m\u001b[1;33m\u001b[0m\u001b[1;33m\u001b[0m\u001b[0m\n\u001b[0;32m      4\u001b[0m \u001b[0mprint\u001b[0m\u001b[1;33m(\u001b[0m\u001b[1;34m'extract triangular mat'\u001b[0m\u001b[1;33m)\u001b[0m\u001b[1;33m\u001b[0m\u001b[1;33m\u001b[0m\u001b[0m\n\u001b[1;32m----> 5\u001b[1;33m \u001b[0mprint\u001b[0m\u001b[1;33m(\u001b[0m\u001b[0mla\u001b[0m\u001b[1;33m.\u001b[0m\u001b[0mA\u001b[0m\u001b[1;33m[\u001b[0m\u001b[1;36m1\u001b[0m\u001b[1;33m:\u001b[0m\u001b[1;36m2\u001b[0m\u001b[1;33m,\u001b[0m\u001b[1;36m2\u001b[0m\u001b[1;33m:\u001b[0m\u001b[1;36m3\u001b[0m\u001b[1;33m]\u001b[0m\u001b[1;33m)\u001b[0m\u001b[1;33m\u001b[0m\u001b[1;33m\u001b[0m\u001b[0m\n\u001b[0m",
      "\u001b[1;31mAttributeError\u001b[0m: module 'numpy.linalg' has no attribute 'A'"
     ]
    }
   ],
   "source": [
    "import numpy.linalg as la\n",
    "A = np.arange(16).reshape(4,4)\n",
    "print(A)\n",
    "print('extract triangular mat')\n",
    "#print(la.A[1:2,2:3])"
   ]
  },
  {
   "cell_type": "markdown",
   "id": "70558637",
   "metadata": {},
   "source": [
    "### 2.13 Numpy Matplotlib\n",
    "### matplotlib is a plotting lib of python\n",
    "### read further about matplotlib by clicking on www.matplotlib.org"
   ]
  },
  {
   "cell_type": "code",
   "execution_count": 134,
   "id": "b3af9a4d",
   "metadata": {},
   "outputs": [
    {
     "data": {
      "text/plain": [
       "[<matplotlib.lines.Line2D at 0x23513105ac0>]"
      ]
     },
     "execution_count": 134,
     "metadata": {},
     "output_type": "execute_result"
    },
    {
     "data": {
      "image/png": "[encoded data removed]",
      "text/plain": [
       "<Figure size 432x288 with 1 Axes>"
      ]
     },
     "metadata": {
      "needs_background": "light"
     },
     "output_type": "display_data"
    }
   ],
   "source": [
    "\n",
    "import numpy as np\n",
    "from matplotlib import pyplot as plt\n",
    "x = np.arange(1,11)\n",
    "y = 2*x + 5\n",
    "plt.title(\" my_matplotlib demo\")\n",
    "plt.xlabel('along X axis we have taken x_values ')\n",
    "plt.ylabel('along y axis')\n",
    "plt.plot(x,y, \":\")\n"
   ]
  },
  {
   "cell_type": "code",
   "execution_count": 135,
   "id": "a6968312",
   "metadata": {},
   "outputs": [
    {
     "data": {
      "text/plain": [
       "[<matplotlib.lines.Line2D at 0x23513213040>]"
      ]
     },
     "execution_count": 135,
     "metadata": {},
     "output_type": "execute_result"
    },
    {
     "data": {
      "image/png": "[encoded data removed]",
      "text/plain": [
       "<Figure size 432x288 with 1 Axes>"
      ]
     },
     "metadata": {
      "needs_background": "light"
     },
     "output_type": "display_data"
    }
   ],
   "source": [
    "import numpy as np\n",
    "from matplotlib import pyplot as plt\n",
    "x = np.arange(0,3*np.pi,0.1)\n",
    "y = np.sin(x)\n",
    "plt.title(\"sin wave form\")\n",
    "plt.plot(x,y,\":\")"
   ]
  },
  {
   "cell_type": "code",
   "execution_count": 136,
   "id": "63427348",
   "metadata": {},
   "outputs": [
    {
     "data": {
      "text/plain": [
       "[<matplotlib.lines.Line2D at 0x235132bb820>]"
      ]
     },
     "execution_count": 136,
     "metadata": {},
     "output_type": "execute_result"
    },
    {
     "data": {
      "image/png": "[encoded data removed]",
      "text/plain": [
       "<Figure size 432x288 with 2 Axes>"
      ]
     },
     "metadata": {
      "needs_background": "light"
     },
     "output_type": "display_data"
    }
   ],
   "source": [
    "import numpy as np\n",
    "from matplotlib import pyplot as plt\n",
    "x = np.arange(0,3*np.pi,0.1)\n",
    "y_sin = np.sin(x)\n",
    "y_cos = np.cos(x)\n",
    "\n",
    "plt.subplot(2,1,1)\n",
    "plt.title(\"sine\")\n",
    "plt.plot(x,y_sin,\":\")\n",
    "\n",
    "plt.subplot(2,1,2)\n",
    "plt.title(\"cosine\")\n",
    "plt.plot(x,y_cos,\":\")\n",
    "\n"
   ]
  },
  {
   "cell_type": "code",
   "execution_count": 137,
   "id": "f6b61c8b",
   "metadata": {},
   "outputs": [
    {
     "data": {
      "image/png": "[encoded data removed]",
      "text/plain": [
       "<Figure size 432x288 with 1 Axes>"
      ]
     },
     "metadata": {
      "needs_background": "light"
     },
     "output_type": "display_data"
    }
   ],
   "source": [
    "from matplotlib import pyplot as plt\n",
    "x = [6,11,2] \n",
    "y = [12,16,6]\n",
    "\n",
    "x2 = [6,11,2]\n",
    "y2 = [6,15,7]\n",
    "\n",
    "plt.title(\"Bar graph\")\n",
    "plt.xlabel(' X axis  ')\n",
    "plt.ylabel(' y axis')\n",
    "plt.bar(x,y, align='center')\n",
    "plt.bar(x2,y2, color = 'g', align = \"center\")\n",
    "plt.show()"
   ]
  },
  {
   "cell_type": "code",
   "execution_count": 138,
   "id": "fcc9f679",
   "metadata": {},
   "outputs": [
    {
     "name": "stdout",
     "output_type": "stream",
     "text": [
      "[2 1 3 1 1 4 0]\n",
      "[ 0 10 20 30 40 50 60 70]\n"
     ]
    }
   ],
   "source": [
    "import numpy as np\n",
    "a = np.array([22,87,5,43,56,73,55,54,11,20,51,5,79,31,27])\n",
    "np.histogram(a,bins = [0,10,20,30,40,50,60,70])\n",
    "hist,bin = np.histogram(a,bins =  [0,10,20,30,40,50,60,70] )\n",
    "print(hist)\n",
    "print(bin)\n",
    "plt.show()"
   ]
  },
  {
   "cell_type": "code",
   "execution_count": 139,
   "id": "bd801dc3",
   "metadata": {},
   "outputs": [
    {
     "name": "stdout",
     "output_type": "stream",
     "text": [
      "1\n",
      "2\n",
      "3\n",
      "4\n",
      "5\n",
      "6\n",
      "7\n",
      "8\n",
      "9\n",
      "10\n"
     ]
    }
   ],
   "source": [
    "x =range(1,11)\n",
    "for elem in x:    \n",
    "    print( elem)\n",
    "        "
   ]
  },
  {
   "cell_type": "code",
   "execution_count": null,
   "id": "0bb8ce2e",
   "metadata": {},
   "outputs": [],
   "source": []
  },
  {
   "cell_type": "code",
   "execution_count": null,
   "id": "e68bbb98",
   "metadata": {},
   "outputs": [],
   "source": []
  },
  {
   "cell_type": "code",
   "execution_count": null,
   "id": "501d0916",
   "metadata": {},
   "outputs": [],
   "source": []
  },
  {
   "cell_type": "code",
   "execution_count": null,
   "id": "8d1fd00a",
   "metadata": {},
   "outputs": [],
   "source": []
  },
  {
   "cell_type": "code",
   "execution_count": null,
   "id": "d6c162f6",
   "metadata": {},
   "outputs": [],
   "source": []
  },
  {
   "cell_type": "code",
   "execution_count": null,
   "id": "3c9f8699",
   "metadata": {},
   "outputs": [],
   "source": []
  },
  {
   "cell_type": "code",
   "execution_count": null,
   "id": "99d697fc",
   "metadata": {},
   "outputs": [],
   "source": []
  },
  {
   "cell_type": "code",
   "execution_count": null,
   "id": "b4e3c789",
   "metadata": {},
   "outputs": [],
   "source": []
  }
 ],
 "metadata": {
  "kernelspec": {
   "display_name": "Python 3 (ipykernel)",
   "language": "python",
   "name": "python3"
  },
  "language_info": {
   "codemirror_mode": {
    "name": "ipython",
    "version": 3
   },
   "file_extension": ".py",
   "mimetype": "text/x-python",
   "name": "python",
   "nbconvert_exporter": "python",
   "pygments_lexer": "ipython3",
   "version": "3.9.7"
  }
 },
 "nbformat": 4,
 "nbformat_minor": 5
}
